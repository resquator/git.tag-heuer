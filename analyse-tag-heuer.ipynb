{
 "cells": [
  {
   "cell_type": "markdown",
   "id": "43310146-246c-494f-b145-ea6281d39b73",
   "metadata": {},
   "source": [
    "# Extract Golf Score Tag Heuer\n",
    "\n",
    "This program extract data form tag Heuer json file. The data extracted is for 1 payer (email, or name give as a key).\n",
    "\n",
    "The outcome will be:\n",
    "- row number\n",
    "- round id\n",
    "- round date\n",
    "- course\n",
    "- player index\n",
    "- hole\n",
    "- handicap\n",
    "- par (normal for the hole)\n",
    "- strokes\n",
    "- putts\n",
    "- penalties\n",
    "- fairwayHit\n",
    "- bunkerHit\n",
    "\n",
    "\n",
    "The Class will implement a fit transform method. Initialization will be done with the json file.\n",
    "Init mthod read the json and normalize.\n",
    "Fit method prepare features.\n",
    "Transform returns pandas dataset with all holes payed."
   ]
  },
  {
   "cell_type": "code",
   "execution_count": 1,
   "id": "6daa2ce4-0bcd-44ff-a695-6369108c7eb8",
   "metadata": {},
   "outputs": [],
   "source": [
    "import pyforest"
   ]
  },
  {
   "cell_type": "code",
   "execution_count": 2,
   "id": "a2fdf1d3-cdc9-4f3f-a3c0-d8c449e14694",
   "metadata": {},
   "outputs": [],
   "source": [
    "class TagHeuerData:\n",
    "    def __init__(self, data = None, player = None):\n",
    "        self.data = data\n",
    "        self.player = player\n",
    "    \n",
    "        \n",
    "    def extractRounds(self):\n",
    "        self.email = data.email\n",
    "        self.rounds = pd.json_normalize(self.data.rounds)\n",
    "        self.rounds = self.rounds.T\n",
    "        self.rounds.columns = ['round']\n",
    "        return self.rounds\n",
    "            \n",
    "    def get_playerDetail(self):\n",
    "        try:\n",
    "            return data.email[0], data.firstname[0], data.lastname[0], data.handicap[0]\n",
    "        except:\n",
    "            return False\n"
   ]
  },
  {
   "cell_type": "code",
   "execution_count": 4,
   "id": "dc1eb1e4-ed06-420d-8cf7-268f76eb30df",
   "metadata": {},
   "outputs": [
    {
     "data": {
      "application/javascript": [
       "\n",
       "        if (window._pyforest_update_imports_cell) { window._pyforest_update_imports_cell('import pandas as pd'); }\n",
       "    "
      ],
      "text/plain": [
       "<IPython.core.display.Javascript object>"
      ]
     },
     "metadata": {},
     "output_type": "display_data"
    }
   ],
   "source": [
    "\n",
    "import json\n",
    "from pandas.io.json import json_normalize\n",
    "from collections import OrderedDict\n",
    "\n",
    "with open('data/user.json') as data_file:\n",
    "    data = json.load(data_file, object_pairs_hook=OrderedDict)\n",
    "    data=pd.json_normalize(data)"
   ]
  },
  {
   "cell_type": "code",
   "execution_count": 5,
   "id": "87ff36c3-437d-48e6-80e2-b933bdf1a560",
   "metadata": {},
   "outputs": [],
   "source": [
    "tag = TagHeuerData(data,'Daryl')"
   ]
  },
  {
   "cell_type": "code",
   "execution_count": 6,
   "id": "f4af1254-9cf5-4d81-8eee-6438d7e9c5c1",
   "metadata": {},
   "outputs": [
    {
     "data": {
      "text/plain": [
       "('resquatordaryl@gmail.com', 'Daryl', 'Felix', 11.5)"
      ]
     },
     "execution_count": 6,
     "metadata": {},
     "output_type": "execute_result"
    }
   ],
   "source": [
    "tag.get_playerDetail()"
   ]
  },
  {
   "cell_type": "code",
   "execution_count": 7,
   "id": "ad592c3e-91a1-4cfc-9a3f-893f2749b927",
   "metadata": {},
   "outputs": [
    {
     "data": {
      "application/javascript": [
       "\n",
       "        if (window._pyforest_update_imports_cell) { window._pyforest_update_imports_cell('import pandas as pd'); }\n",
       "    "
      ],
      "text/plain": [
       "<IPython.core.display.Javascript object>"
      ]
     },
     "metadata": {},
     "output_type": "display_data"
    },
    {
     "data": {
      "text/html": [
       "<div>\n",
       "<style scoped>\n",
       "    .dataframe tbody tr th:only-of-type {\n",
       "        vertical-align: middle;\n",
       "    }\n",
       "\n",
       "    .dataframe tbody tr th {\n",
       "        vertical-align: top;\n",
       "    }\n",
       "\n",
       "    .dataframe thead th {\n",
       "        text-align: right;\n",
       "    }\n",
       "</style>\n",
       "<table border=\"1\" class=\"dataframe\">\n",
       "  <thead>\n",
       "    <tr style=\"text-align: right;\">\n",
       "      <th></th>\n",
       "      <th>round</th>\n",
       "    </tr>\n",
       "  </thead>\n",
       "  <tbody>\n",
       "    <tr>\n",
       "      <th>0</th>\n",
       "      <td>{'club': 'Golf de Gonville', 'course': '', 'st...</td>\n",
       "    </tr>\n",
       "    <tr>\n",
       "      <th>1</th>\n",
       "      <td>{'club': 'Golf Club Montreux', 'course': 'Golf...</td>\n",
       "    </tr>\n",
       "    <tr>\n",
       "      <th>2</th>\n",
       "      <td>{'club': 'Golf Parc du Signal de Bougy', 'cour...</td>\n",
       "    </tr>\n",
       "    <tr>\n",
       "      <th>3</th>\n",
       "      <td>{'club': 'Golf Club Montreux', 'course': 'Golf...</td>\n",
       "    </tr>\n",
       "    <tr>\n",
       "      <th>4</th>\n",
       "      <td>{'club': 'Golf Club Montreux', 'course': 'Golf...</td>\n",
       "    </tr>\n",
       "    <tr>\n",
       "      <th>...</th>\n",
       "      <td>...</td>\n",
       "    </tr>\n",
       "    <tr>\n",
       "      <th>65</th>\n",
       "      <td>{'club': 'Golf de Gonville', 'course': '', 'st...</td>\n",
       "    </tr>\n",
       "    <tr>\n",
       "      <th>66</th>\n",
       "      <td>{'club': 'Golf de Gonville', 'course': '', 'st...</td>\n",
       "    </tr>\n",
       "    <tr>\n",
       "      <th>67</th>\n",
       "      <td>{'club': 'Golf de Gonville', 'course': '', 'st...</td>\n",
       "    </tr>\n",
       "    <tr>\n",
       "      <th>68</th>\n",
       "      <td>{'club': 'Golf de Gonville', 'course': '', 'st...</td>\n",
       "    </tr>\n",
       "    <tr>\n",
       "      <th>69</th>\n",
       "      <td>{'club': 'Golf de Gonville', 'course': '', 'st...</td>\n",
       "    </tr>\n",
       "  </tbody>\n",
       "</table>\n",
       "<p>70 rows × 1 columns</p>\n",
       "</div>"
      ],
      "text/plain": [
       "                                                round\n",
       "0   {'club': 'Golf de Gonville', 'course': '', 'st...\n",
       "1   {'club': 'Golf Club Montreux', 'course': 'Golf...\n",
       "2   {'club': 'Golf Parc du Signal de Bougy', 'cour...\n",
       "3   {'club': 'Golf Club Montreux', 'course': 'Golf...\n",
       "4   {'club': 'Golf Club Montreux', 'course': 'Golf...\n",
       "..                                                ...\n",
       "65  {'club': 'Golf de Gonville', 'course': '', 'st...\n",
       "66  {'club': 'Golf de Gonville', 'course': '', 'st...\n",
       "67  {'club': 'Golf de Gonville', 'course': '', 'st...\n",
       "68  {'club': 'Golf de Gonville', 'course': '', 'st...\n",
       "69  {'club': 'Golf de Gonville', 'course': '', 'st...\n",
       "\n",
       "[70 rows x 1 columns]"
      ]
     },
     "execution_count": 7,
     "metadata": {},
     "output_type": "execute_result"
    }
   ],
   "source": [
    "tag.extractRounds()"
   ]
  },
  {
   "cell_type": "code",
   "execution_count": 8,
   "id": "aef448a6-0d74-4131-853a-c8973aad7284",
   "metadata": {},
   "outputs": [
    {
     "data": {
      "application/javascript": [
       "\n",
       "        if (window._pyforest_update_imports_cell) { window._pyforest_update_imports_cell('import pandas as pd'); }\n",
       "    "
      ],
      "text/plain": [
       "<IPython.core.display.Javascript object>"
      ]
     },
     "metadata": {},
     "output_type": "display_data"
    },
    {
     "data": {
      "application/javascript": [
       "\n",
       "        if (window._pyforest_update_imports_cell) { window._pyforest_update_imports_cell('import pandas as pd'); }\n",
       "    "
      ],
      "text/plain": [
       "<IPython.core.display.Javascript object>"
      ]
     },
     "metadata": {},
     "output_type": "display_data"
    },
    {
     "data": {
      "text/html": [
       "<div>\n",
       "<style scoped>\n",
       "    .dataframe tbody tr th:only-of-type {\n",
       "        vertical-align: middle;\n",
       "    }\n",
       "\n",
       "    .dataframe tbody tr th {\n",
       "        vertical-align: top;\n",
       "    }\n",
       "\n",
       "    .dataframe thead th {\n",
       "        text-align: right;\n",
       "    }\n",
       "</style>\n",
       "<table border=\"1\" class=\"dataframe\">\n",
       "  <thead>\n",
       "    <tr style=\"text-align: right;\">\n",
       "      <th></th>\n",
       "      <th>club</th>\n",
       "      <th>course</th>\n",
       "    </tr>\n",
       "  </thead>\n",
       "  <tbody>\n",
       "    <tr>\n",
       "      <th>0</th>\n",
       "      <td>Golf de Lavaux</td>\n",
       "      <td>Parcours 18 trous</td>\n",
       "    </tr>\n",
       "  </tbody>\n",
       "</table>\n",
       "</div>"
      ],
      "text/plain": [
       "             club             course\n",
       "0  Golf de Lavaux  Parcours 18 trous"
      ]
     },
     "execution_count": 8,
     "metadata": {},
     "output_type": "execute_result"
    }
   ],
   "source": [
    "courses = pd.json_normalize(data.downloaded_courses).T\n",
    "courses.columns = ['course']\n",
    "pd.json_normalize(courses.loc[0,:])"
   ]
  },
  {
   "cell_type": "code",
   "execution_count": 9,
   "id": "e39bbc37-eb71-4507-a047-fce993d94e03",
   "metadata": {},
   "outputs": [
    {
     "data": {
      "text/html": [
       "<div>\n",
       "<style scoped>\n",
       "    .dataframe tbody tr th:only-of-type {\n",
       "        vertical-align: middle;\n",
       "    }\n",
       "\n",
       "    .dataframe tbody tr th {\n",
       "        vertical-align: top;\n",
       "    }\n",
       "\n",
       "    .dataframe thead th {\n",
       "        text-align: right;\n",
       "    }\n",
       "</style>\n",
       "<table border=\"1\" class=\"dataframe\">\n",
       "  <thead>\n",
       "    <tr style=\"text-align: right;\">\n",
       "      <th></th>\n",
       "      <th>uuid</th>\n",
       "      <th>email</th>\n",
       "      <th>firstname</th>\n",
       "      <th>lastname</th>\n",
       "      <th>gender</th>\n",
       "      <th>birthdate</th>\n",
       "      <th>country</th>\n",
       "      <th>handicap</th>\n",
       "      <th>handicap_set</th>\n",
       "      <th>newsletter_subscriber</th>\n",
       "      <th>...</th>\n",
       "      <th>club_equipments</th>\n",
       "      <th>rounds</th>\n",
       "      <th>hole_notes</th>\n",
       "      <th>players</th>\n",
       "      <th>downloaded_courses</th>\n",
       "      <th>preferences.measurement_system</th>\n",
       "      <th>preferences.prefers_watch_gps</th>\n",
       "      <th>preferences.watch_target</th>\n",
       "      <th>preferences.hole_tracking</th>\n",
       "      <th>preferences.auto_shot_enabled</th>\n",
       "    </tr>\n",
       "  </thead>\n",
       "  <tbody>\n",
       "    <tr>\n",
       "      <th>0</th>\n",
       "      <td>3e3c99a1-ed3c-445d-a55d-c00a8158361a</td>\n",
       "      <td>resquatordaryl@gmail.com</td>\n",
       "      <td>Daryl</td>\n",
       "      <td>Felix</td>\n",
       "      <td>m</td>\n",
       "      <td>1966-05-01</td>\n",
       "      <td>CH</td>\n",
       "      <td>11.5</td>\n",
       "      <td>True</td>\n",
       "      <td>False</td>\n",
       "      <td>...</td>\n",
       "      <td>[{'key': '409956|wood-5-0', 'distance': 165.0,...</td>\n",
       "      <td>[{'club': 'Golf de Gonville', 'course': '', 's...</td>\n",
       "      <td>[]</td>\n",
       "      <td>[]</td>\n",
       "      <td>[{'club': 'Golf de Lavaux', 'course': 'Parcour...</td>\n",
       "      <td>meters</td>\n",
       "      <td>False</td>\n",
       "      <td>green</td>\n",
       "      <td>automatic</td>\n",
       "      <td>None</td>\n",
       "    </tr>\n",
       "  </tbody>\n",
       "</table>\n",
       "<p>1 rows × 25 columns</p>\n",
       "</div>"
      ],
      "text/plain": [
       "                                   uuid                     email firstname  \\\n",
       "0  3e3c99a1-ed3c-445d-a55d-c00a8158361a  resquatordaryl@gmail.com     Daryl   \n",
       "\n",
       "  lastname gender   birthdate country  handicap  handicap_set  \\\n",
       "0    Felix      m  1966-05-01      CH      11.5          True   \n",
       "\n",
       "   newsletter_subscriber  ...  \\\n",
       "0                  False  ...   \n",
       "\n",
       "                                     club_equipments  \\\n",
       "0  [{'key': '409956|wood-5-0', 'distance': 165.0,...   \n",
       "\n",
       "                                              rounds hole_notes players  \\\n",
       "0  [{'club': 'Golf de Gonville', 'course': '', 's...         []      []   \n",
       "\n",
       "                                  downloaded_courses  \\\n",
       "0  [{'club': 'Golf de Lavaux', 'course': 'Parcour...   \n",
       "\n",
       "  preferences.measurement_system preferences.prefers_watch_gps  \\\n",
       "0                         meters                         False   \n",
       "\n",
       "  preferences.watch_target preferences.hole_tracking  \\\n",
       "0                    green                 automatic   \n",
       "\n",
       "  preferences.auto_shot_enabled  \n",
       "0                          None  \n",
       "\n",
       "[1 rows x 25 columns]"
      ]
     },
     "execution_count": 9,
     "metadata": {},
     "output_type": "execute_result"
    }
   ],
   "source": [
    "data"
   ]
  },
  {
   "cell_type": "code",
   "execution_count": 10,
   "id": "6e2eef2f-0381-4c95-8de1-25d3698751a0",
   "metadata": {},
   "outputs": [
    {
     "data": {
      "text/plain": [
       "0    [{'club': 'Golf de Gonville', 'course': '', 's...\n",
       "Name: rounds, dtype: object"
      ]
     },
     "execution_count": 10,
     "metadata": {},
     "output_type": "execute_result"
    }
   ],
   "source": [
    "data.rounds"
   ]
  },
  {
   "cell_type": "code",
   "execution_count": 11,
   "id": "acbddb90-6051-470c-8a91-c42e86d16450",
   "metadata": {},
   "outputs": [
    {
     "data": {
      "application/javascript": [
       "\n",
       "        if (window._pyforest_update_imports_cell) { window._pyforest_update_imports_cell('import pandas as pd'); }\n",
       "    "
      ],
      "text/plain": [
       "<IPython.core.display.Javascript object>"
      ]
     },
     "metadata": {},
     "output_type": "display_data"
    }
   ],
   "source": [
    "rounds = pd.json_normalize(data.rounds)"
   ]
  },
  {
   "cell_type": "code",
   "execution_count": 12,
   "id": "27815bbf-b4e3-48fe-b060-20303e3a5e2a",
   "metadata": {},
   "outputs": [
    {
     "data": {
      "text/html": [
       "<div>\n",
       "<style scoped>\n",
       "    .dataframe tbody tr th:only-of-type {\n",
       "        vertical-align: middle;\n",
       "    }\n",
       "\n",
       "    .dataframe tbody tr th {\n",
       "        vertical-align: top;\n",
       "    }\n",
       "\n",
       "    .dataframe thead th {\n",
       "        text-align: right;\n",
       "    }\n",
       "</style>\n",
       "<table border=\"1\" class=\"dataframe\">\n",
       "  <thead>\n",
       "    <tr style=\"text-align: right;\">\n",
       "      <th></th>\n",
       "      <th>round</th>\n",
       "    </tr>\n",
       "  </thead>\n",
       "  <tbody>\n",
       "    <tr>\n",
       "      <th>0</th>\n",
       "      <td>{'club': 'Golf de Gonville', 'course': '', 'st...</td>\n",
       "    </tr>\n",
       "    <tr>\n",
       "      <th>1</th>\n",
       "      <td>{'club': 'Golf Club Montreux', 'course': 'Golf...</td>\n",
       "    </tr>\n",
       "    <tr>\n",
       "      <th>2</th>\n",
       "      <td>{'club': 'Golf Parc du Signal de Bougy', 'cour...</td>\n",
       "    </tr>\n",
       "    <tr>\n",
       "      <th>3</th>\n",
       "      <td>{'club': 'Golf Club Montreux', 'course': 'Golf...</td>\n",
       "    </tr>\n",
       "    <tr>\n",
       "      <th>4</th>\n",
       "      <td>{'club': 'Golf Club Montreux', 'course': 'Golf...</td>\n",
       "    </tr>\n",
       "    <tr>\n",
       "      <th>...</th>\n",
       "      <td>...</td>\n",
       "    </tr>\n",
       "    <tr>\n",
       "      <th>65</th>\n",
       "      <td>{'club': 'Golf de Gonville', 'course': '', 'st...</td>\n",
       "    </tr>\n",
       "    <tr>\n",
       "      <th>66</th>\n",
       "      <td>{'club': 'Golf de Gonville', 'course': '', 'st...</td>\n",
       "    </tr>\n",
       "    <tr>\n",
       "      <th>67</th>\n",
       "      <td>{'club': 'Golf de Gonville', 'course': '', 'st...</td>\n",
       "    </tr>\n",
       "    <tr>\n",
       "      <th>68</th>\n",
       "      <td>{'club': 'Golf de Gonville', 'course': '', 'st...</td>\n",
       "    </tr>\n",
       "    <tr>\n",
       "      <th>69</th>\n",
       "      <td>{'club': 'Golf de Gonville', 'course': '', 'st...</td>\n",
       "    </tr>\n",
       "  </tbody>\n",
       "</table>\n",
       "<p>70 rows × 1 columns</p>\n",
       "</div>"
      ],
      "text/plain": [
       "                                                round\n",
       "0   {'club': 'Golf de Gonville', 'course': '', 'st...\n",
       "1   {'club': 'Golf Club Montreux', 'course': 'Golf...\n",
       "2   {'club': 'Golf Parc du Signal de Bougy', 'cour...\n",
       "3   {'club': 'Golf Club Montreux', 'course': 'Golf...\n",
       "4   {'club': 'Golf Club Montreux', 'course': 'Golf...\n",
       "..                                                ...\n",
       "65  {'club': 'Golf de Gonville', 'course': '', 'st...\n",
       "66  {'club': 'Golf de Gonville', 'course': '', 'st...\n",
       "67  {'club': 'Golf de Gonville', 'course': '', 'st...\n",
       "68  {'club': 'Golf de Gonville', 'course': '', 'st...\n",
       "69  {'club': 'Golf de Gonville', 'course': '', 'st...\n",
       "\n",
       "[70 rows x 1 columns]"
      ]
     },
     "execution_count": 12,
     "metadata": {},
     "output_type": "execute_result"
    }
   ],
   "source": [
    "rounds = rounds.T\n",
    "rounds.columns = ['round']\n",
    "rounds"
   ]
  },
  {
   "cell_type": "code",
   "execution_count": 13,
   "id": "c10d2d90-e50f-454a-b460-1c836e8d9f19",
   "metadata": {},
   "outputs": [
    {
     "data": {
      "application/javascript": [
       "\n",
       "        if (window._pyforest_update_imports_cell) { window._pyforest_update_imports_cell('import pandas as pd'); }\n",
       "    "
      ],
      "text/plain": [
       "<IPython.core.display.Javascript object>"
      ]
     },
     "metadata": {},
     "output_type": "display_data"
    },
    {
     "data": {
      "text/html": [
       "<div>\n",
       "<style scoped>\n",
       "    .dataframe tbody tr th:only-of-type {\n",
       "        vertical-align: middle;\n",
       "    }\n",
       "\n",
       "    .dataframe tbody tr th {\n",
       "        vertical-align: top;\n",
       "    }\n",
       "\n",
       "    .dataframe thead th {\n",
       "        text-align: right;\n",
       "    }\n",
       "</style>\n",
       "<table border=\"1\" class=\"dataframe\">\n",
       "  <thead>\n",
       "    <tr style=\"text-align: right;\">\n",
       "      <th></th>\n",
       "      <th>club</th>\n",
       "      <th>course</th>\n",
       "      <th>startedAt</th>\n",
       "      <th>finishedAt</th>\n",
       "      <th>eventName</th>\n",
       "      <th>scoringSystem.game</th>\n",
       "      <th>scoringSystem.scoring</th>\n",
       "      <th>scoringSystem.handicapSystem</th>\n",
       "      <th>scoringSystem.hcpSystem</th>\n",
       "      <th>scoringSystem.useForHandicap</th>\n",
       "      <th>scoringSystem.pcc</th>\n",
       "      <th>scorecard.players</th>\n",
       "    </tr>\n",
       "  </thead>\n",
       "  <tbody>\n",
       "    <tr>\n",
       "      <th>0</th>\n",
       "      <td>Golf Club Montreux</td>\n",
       "      <td>Golf Club Montreux</td>\n",
       "      <td>1.589718e+09</td>\n",
       "      <td>1.589736e+09</td>\n",
       "      <td>None</td>\n",
       "      <td>strokePlay</td>\n",
       "      <td>toPar</td>\n",
       "      <td>EGA3</td>\n",
       "      <td>EGA3</td>\n",
       "      <td>None</td>\n",
       "      <td>None</td>\n",
       "      <td>[{'roundPlayer': {'firstName': 'Daryl', 'lastN...</td>\n",
       "    </tr>\n",
       "  </tbody>\n",
       "</table>\n",
       "</div>"
      ],
      "text/plain": [
       "                 club              course     startedAt    finishedAt  \\\n",
       "0  Golf Club Montreux  Golf Club Montreux  1.589718e+09  1.589736e+09   \n",
       "\n",
       "  eventName scoringSystem.game scoringSystem.scoring  \\\n",
       "0      None         strokePlay                 toPar   \n",
       "\n",
       "  scoringSystem.handicapSystem scoringSystem.hcpSystem  \\\n",
       "0                         EGA3                    EGA3   \n",
       "\n",
       "  scoringSystem.useForHandicap scoringSystem.pcc  \\\n",
       "0                         None              None   \n",
       "\n",
       "                                   scorecard.players  \n",
       "0  [{'roundPlayer': {'firstName': 'Daryl', 'lastN...  "
      ]
     },
     "execution_count": 13,
     "metadata": {},
     "output_type": "execute_result"
    }
   ],
   "source": [
    "round = pd.json_normalize(rounds.loc[1,'round'])\n",
    "round"
   ]
  },
  {
   "cell_type": "code",
   "execution_count": 14,
   "id": "de406024-6274-4135-9f3c-41bdc460a785",
   "metadata": {},
   "outputs": [
    {
     "data": {
      "text/plain": [
       "club                             object\n",
       "course                           object\n",
       "startedAt                       float64\n",
       "finishedAt                      float64\n",
       "eventName                        object\n",
       "scoringSystem.game               object\n",
       "scoringSystem.scoring            object\n",
       "scoringSystem.handicapSystem     object\n",
       "scoringSystem.hcpSystem          object\n",
       "scoringSystem.useForHandicap     object\n",
       "scoringSystem.pcc                object\n",
       "scorecard.players                object\n",
       "dtype: object"
      ]
     },
     "execution_count": 14,
     "metadata": {},
     "output_type": "execute_result"
    }
   ],
   "source": [
    "round.dtypes"
   ]
  },
  {
   "cell_type": "code",
   "execution_count": 15,
   "id": "920cfeb9-e1fd-4b26-81d0-95822d78f158",
   "metadata": {},
   "outputs": [
    {
     "name": "stderr",
     "output_type": "stream",
     "text": [
      "/var/folders/nn/fc05h9652z16vkxq7x5q5klw0000gn/T/ipykernel_16243/1664334704.py:3: DeprecationWarning: an integer is required (got type Series).  Implicit conversion to integers using __int__ is deprecated, and may be removed in a future version of Python.\n",
      "  datetime.fromtimestamp(round.startedAt).strftime('%Y-%m-%d')\n"
     ]
    },
    {
     "data": {
      "text/plain": [
       "'2020-05-17'"
      ]
     },
     "execution_count": 15,
     "metadata": {},
     "output_type": "execute_result"
    }
   ],
   "source": [
    "from datetime import datetime\n",
    "\n",
    "datetime.fromtimestamp(round.startedAt).strftime('%Y-%m-%d')"
   ]
  },
  {
   "cell_type": "code",
   "execution_count": 16,
   "id": "bea57bb2-d02a-49e3-9691-3c1fcbd6aa21",
   "metadata": {},
   "outputs": [
    {
     "data": {
      "application/javascript": [
       "\n",
       "        if (window._pyforest_update_imports_cell) { window._pyforest_update_imports_cell('import pandas as pd'); }\n",
       "    "
      ],
      "text/plain": [
       "<IPython.core.display.Javascript object>"
      ]
     },
     "metadata": {},
     "output_type": "display_data"
    },
    {
     "data": {
      "text/html": [
       "<div>\n",
       "<style scoped>\n",
       "    .dataframe tbody tr th:only-of-type {\n",
       "        vertical-align: middle;\n",
       "    }\n",
       "\n",
       "    .dataframe tbody tr th {\n",
       "        vertical-align: top;\n",
       "    }\n",
       "\n",
       "    .dataframe thead th {\n",
       "        text-align: right;\n",
       "    }\n",
       "</style>\n",
       "<table border=\"1\" class=\"dataframe\">\n",
       "  <thead>\n",
       "    <tr style=\"text-align: right;\">\n",
       "      <th></th>\n",
       "      <th>scorecard</th>\n",
       "    </tr>\n",
       "  </thead>\n",
       "  <tbody>\n",
       "    <tr>\n",
       "      <th>0</th>\n",
       "      <td>{'scores': [{'holeNumber': 5, 'date': 15897238...</td>\n",
       "    </tr>\n",
       "  </tbody>\n",
       "</table>\n",
       "</div>"
      ],
      "text/plain": [
       "                                           scorecard\n",
       "0  {'scores': [{'holeNumber': 5, 'date': 15897238..."
      ]
     },
     "execution_count": 16,
     "metadata": {},
     "output_type": "execute_result"
    }
   ],
   "source": [
    "scorecard = pd.json_normalize(round['scorecard.players'])\n",
    "scorecard.columns = ['scorecard']\n",
    "scorecard"
   ]
  },
  {
   "cell_type": "code",
   "execution_count": 17,
   "id": "861e36a2-8625-4280-a119-2f0728a49862",
   "metadata": {},
   "outputs": [
    {
     "data": {
      "application/javascript": [
       "\n",
       "        if (window._pyforest_update_imports_cell) { window._pyforest_update_imports_cell('import pandas as pd'); }\n",
       "    "
      ],
      "text/plain": [
       "<IPython.core.display.Javascript object>"
      ]
     },
     "metadata": {},
     "output_type": "display_data"
    }
   ],
   "source": [
    "score = pd.json_normalize(scorecard.scorecard)"
   ]
  },
  {
   "cell_type": "code",
   "execution_count": 18,
   "id": "37d45b15-e6da-4fc9-842a-bd03a15703b2",
   "metadata": {},
   "outputs": [
    {
     "data": {
      "text/html": [
       "<div>\n",
       "<style scoped>\n",
       "    .dataframe tbody tr th:only-of-type {\n",
       "        vertical-align: middle;\n",
       "    }\n",
       "\n",
       "    .dataframe tbody tr th {\n",
       "        vertical-align: top;\n",
       "    }\n",
       "\n",
       "    .dataframe thead th {\n",
       "        text-align: right;\n",
       "    }\n",
       "</style>\n",
       "<table border=\"1\" class=\"dataframe\">\n",
       "  <thead>\n",
       "    <tr style=\"text-align: right;\">\n",
       "      <th></th>\n",
       "      <th>scores</th>\n",
       "      <th>shotTrails</th>\n",
       "      <th>roundPlayer.firstName</th>\n",
       "      <th>roundPlayer.lastName</th>\n",
       "      <th>roundPlayer.email</th>\n",
       "      <th>roundPlayer.pictureUUID</th>\n",
       "      <th>scoringInfo.tee</th>\n",
       "      <th>scoringInfo.deciIndex</th>\n",
       "    </tr>\n",
       "  </thead>\n",
       "  <tbody>\n",
       "    <tr>\n",
       "      <th>0</th>\n",
       "      <td>[{'holeNumber': 5, 'date': 1589723844.413, 'sc...</td>\n",
       "      <td>[]</td>\n",
       "      <td>Daryl</td>\n",
       "      <td>Felix</td>\n",
       "      <td>resquatordaryl@gmail.com</td>\n",
       "      <td>None</td>\n",
       "      <td>Jaune</td>\n",
       "      <td>120</td>\n",
       "    </tr>\n",
       "  </tbody>\n",
       "</table>\n",
       "</div>"
      ],
      "text/plain": [
       "                                              scores shotTrails  \\\n",
       "0  [{'holeNumber': 5, 'date': 1589723844.413, 'sc...         []   \n",
       "\n",
       "  roundPlayer.firstName roundPlayer.lastName         roundPlayer.email  \\\n",
       "0                 Daryl                Felix  resquatordaryl@gmail.com   \n",
       "\n",
       "  roundPlayer.pictureUUID scoringInfo.tee  scoringInfo.deciIndex  \n",
       "0                    None           Jaune                    120  "
      ]
     },
     "execution_count": 18,
     "metadata": {},
     "output_type": "execute_result"
    }
   ],
   "source": [
    "score"
   ]
  },
  {
   "cell_type": "code",
   "execution_count": 19,
   "id": "0cb9b5cc-ef22-41e9-ac6d-2cb32ec646a7",
   "metadata": {},
   "outputs": [
    {
     "data": {
      "application/javascript": [
       "\n",
       "        if (window._pyforest_update_imports_cell) { window._pyforest_update_imports_cell('import pandas as pd'); }\n",
       "    "
      ],
      "text/plain": [
       "<IPython.core.display.Javascript object>"
      ]
     },
     "metadata": {},
     "output_type": "display_data"
    },
    {
     "data": {
      "text/html": [
       "<div>\n",
       "<style scoped>\n",
       "    .dataframe tbody tr th:only-of-type {\n",
       "        vertical-align: middle;\n",
       "    }\n",
       "\n",
       "    .dataframe tbody tr th {\n",
       "        vertical-align: top;\n",
       "    }\n",
       "\n",
       "    .dataframe thead th {\n",
       "        text-align: right;\n",
       "    }\n",
       "</style>\n",
       "<table border=\"1\" class=\"dataframe\">\n",
       "  <thead>\n",
       "    <tr style=\"text-align: right;\">\n",
       "      <th></th>\n",
       "      <th>round_score</th>\n",
       "    </tr>\n",
       "  </thead>\n",
       "  <tbody>\n",
       "    <tr>\n",
       "      <th>0</th>\n",
       "      <td>{'holeNumber': 5, 'date': 1589723844.413, 'sco...</td>\n",
       "    </tr>\n",
       "    <tr>\n",
       "      <th>1</th>\n",
       "      <td>{'holeNumber': 3, 'date': 1589722489.96, 'scor...</td>\n",
       "    </tr>\n",
       "    <tr>\n",
       "      <th>2</th>\n",
       "      <td>{'holeNumber': 1, 'date': 1589720352.0700002, ...</td>\n",
       "    </tr>\n",
       "    <tr>\n",
       "      <th>3</th>\n",
       "      <td>{'holeNumber': 2, 'date': 1589720948.648, 'sco...</td>\n",
       "    </tr>\n",
       "    <tr>\n",
       "      <th>4</th>\n",
       "      <td>{'holeNumber': 4, 'date': 1589723065.088, 'sco...</td>\n",
       "    </tr>\n",
       "    <tr>\n",
       "      <th>5</th>\n",
       "      <td>{'holeNumber': 8, 'date': 1589726585.282, 'sco...</td>\n",
       "    </tr>\n",
       "    <tr>\n",
       "      <th>6</th>\n",
       "      <td>{'holeNumber': 6, 'date': 1589724745.915, 'sco...</td>\n",
       "    </tr>\n",
       "    <tr>\n",
       "      <th>7</th>\n",
       "      <td>{'holeNumber': 14, 'date': 1589731677.437, 'sc...</td>\n",
       "    </tr>\n",
       "    <tr>\n",
       "      <th>8</th>\n",
       "      <td>{'holeNumber': 7, 'date': 1589725950.201, 'sco...</td>\n",
       "    </tr>\n",
       "    <tr>\n",
       "      <th>9</th>\n",
       "      <td>{'holeNumber': 13, 'date': 1589731011.071, 'sc...</td>\n",
       "    </tr>\n",
       "    <tr>\n",
       "      <th>10</th>\n",
       "      <td>{'holeNumber': 15, 'date': 1589732745.1490002,...</td>\n",
       "    </tr>\n",
       "    <tr>\n",
       "      <th>11</th>\n",
       "      <td>{'holeNumber': 12, 'date': 1589729894.459, 'sc...</td>\n",
       "    </tr>\n",
       "    <tr>\n",
       "      <th>12</th>\n",
       "      <td>{'holeNumber': 9, 'date': 1589727340.758, 'sco...</td>\n",
       "    </tr>\n",
       "    <tr>\n",
       "      <th>13</th>\n",
       "      <td>{'holeNumber': 10, 'date': 1589728869.342, 'sc...</td>\n",
       "    </tr>\n",
       "    <tr>\n",
       "      <th>14</th>\n",
       "      <td>{'holeNumber': 16, 'date': 1589733965.026, 'sc...</td>\n",
       "    </tr>\n",
       "    <tr>\n",
       "      <th>15</th>\n",
       "      <td>{'holeNumber': 17, 'date': 1589735269.155, 'sc...</td>\n",
       "    </tr>\n",
       "    <tr>\n",
       "      <th>16</th>\n",
       "      <td>{'holeNumber': 18, 'date': 1589735698.227, 'sc...</td>\n",
       "    </tr>\n",
       "    <tr>\n",
       "      <th>17</th>\n",
       "      <td>{'holeNumber': 11, 'date': 1589729293.2979999,...</td>\n",
       "    </tr>\n",
       "  </tbody>\n",
       "</table>\n",
       "</div>"
      ],
      "text/plain": [
       "                                          round_score\n",
       "0   {'holeNumber': 5, 'date': 1589723844.413, 'sco...\n",
       "1   {'holeNumber': 3, 'date': 1589722489.96, 'scor...\n",
       "2   {'holeNumber': 1, 'date': 1589720352.0700002, ...\n",
       "3   {'holeNumber': 2, 'date': 1589720948.648, 'sco...\n",
       "4   {'holeNumber': 4, 'date': 1589723065.088, 'sco...\n",
       "5   {'holeNumber': 8, 'date': 1589726585.282, 'sco...\n",
       "6   {'holeNumber': 6, 'date': 1589724745.915, 'sco...\n",
       "7   {'holeNumber': 14, 'date': 1589731677.437, 'sc...\n",
       "8   {'holeNumber': 7, 'date': 1589725950.201, 'sco...\n",
       "9   {'holeNumber': 13, 'date': 1589731011.071, 'sc...\n",
       "10  {'holeNumber': 15, 'date': 1589732745.1490002,...\n",
       "11  {'holeNumber': 12, 'date': 1589729894.459, 'sc...\n",
       "12  {'holeNumber': 9, 'date': 1589727340.758, 'sco...\n",
       "13  {'holeNumber': 10, 'date': 1589728869.342, 'sc...\n",
       "14  {'holeNumber': 16, 'date': 1589733965.026, 'sc...\n",
       "15  {'holeNumber': 17, 'date': 1589735269.155, 'sc...\n",
       "16  {'holeNumber': 18, 'date': 1589735698.227, 'sc...\n",
       "17  {'holeNumber': 11, 'date': 1589729293.2979999,..."
      ]
     },
     "execution_count": 19,
     "metadata": {},
     "output_type": "execute_result"
    }
   ],
   "source": [
    "score_round = pd.json_normalize(score.scores)\n",
    "score_round = score_round.T\n",
    "score_round.columns = ['round_score']\n",
    "score_round"
   ]
  },
  {
   "cell_type": "code",
   "execution_count": 20,
   "id": "1825cd4d-5247-44f5-9103-cad19d23a45e",
   "metadata": {},
   "outputs": [
    {
     "data": {
      "application/javascript": [
       "\n",
       "        if (window._pyforest_update_imports_cell) { window._pyforest_update_imports_cell('import pandas as pd'); }\n",
       "    "
      ],
      "text/plain": [
       "<IPython.core.display.Javascript object>"
      ]
     },
     "metadata": {},
     "output_type": "display_data"
    },
    {
     "name": "stdout",
     "output_type": "stream",
     "text": [
      "5 4\n"
     ]
    },
    {
     "data": {
      "application/javascript": [
       "\n",
       "        if (window._pyforest_update_imports_cell) { window._pyforest_update_imports_cell('import pandas as pd'); }\n",
       "    "
      ],
      "text/plain": [
       "<IPython.core.display.Javascript object>"
      ]
     },
     "metadata": {},
     "output_type": "display_data"
    },
    {
     "name": "stdout",
     "output_type": "stream",
     "text": [
      "3 4\n"
     ]
    },
    {
     "data": {
      "application/javascript": [
       "\n",
       "        if (window._pyforest_update_imports_cell) { window._pyforest_update_imports_cell('import pandas as pd'); }\n",
       "    "
      ],
      "text/plain": [
       "<IPython.core.display.Javascript object>"
      ]
     },
     "metadata": {},
     "output_type": "display_data"
    },
    {
     "name": "stdout",
     "output_type": "stream",
     "text": [
      "1 6\n"
     ]
    },
    {
     "data": {
      "application/javascript": [
       "\n",
       "        if (window._pyforest_update_imports_cell) { window._pyforest_update_imports_cell('import pandas as pd'); }\n",
       "    "
      ],
      "text/plain": [
       "<IPython.core.display.Javascript object>"
      ]
     },
     "metadata": {},
     "output_type": "display_data"
    },
    {
     "name": "stdout",
     "output_type": "stream",
     "text": [
      "2 5\n"
     ]
    },
    {
     "data": {
      "application/javascript": [
       "\n",
       "        if (window._pyforest_update_imports_cell) { window._pyforest_update_imports_cell('import pandas as pd'); }\n",
       "    "
      ],
      "text/plain": [
       "<IPython.core.display.Javascript object>"
      ]
     },
     "metadata": {},
     "output_type": "display_data"
    },
    {
     "name": "stdout",
     "output_type": "stream",
     "text": [
      "4 3\n"
     ]
    },
    {
     "data": {
      "application/javascript": [
       "\n",
       "        if (window._pyforest_update_imports_cell) { window._pyforest_update_imports_cell('import pandas as pd'); }\n",
       "    "
      ],
      "text/plain": [
       "<IPython.core.display.Javascript object>"
      ]
     },
     "metadata": {},
     "output_type": "display_data"
    },
    {
     "name": "stdout",
     "output_type": "stream",
     "text": [
      "8 3\n"
     ]
    },
    {
     "data": {
      "application/javascript": [
       "\n",
       "        if (window._pyforest_update_imports_cell) { window._pyforest_update_imports_cell('import pandas as pd'); }\n",
       "    "
      ],
      "text/plain": [
       "<IPython.core.display.Javascript object>"
      ]
     },
     "metadata": {},
     "output_type": "display_data"
    },
    {
     "name": "stdout",
     "output_type": "stream",
     "text": [
      "6 5\n"
     ]
    },
    {
     "data": {
      "application/javascript": [
       "\n",
       "        if (window._pyforest_update_imports_cell) { window._pyforest_update_imports_cell('import pandas as pd'); }\n",
       "    "
      ],
      "text/plain": [
       "<IPython.core.display.Javascript object>"
      ]
     },
     "metadata": {},
     "output_type": "display_data"
    },
    {
     "name": "stdout",
     "output_type": "stream",
     "text": [
      "14 5\n"
     ]
    },
    {
     "data": {
      "application/javascript": [
       "\n",
       "        if (window._pyforest_update_imports_cell) { window._pyforest_update_imports_cell('import pandas as pd'); }\n",
       "    "
      ],
      "text/plain": [
       "<IPython.core.display.Javascript object>"
      ]
     },
     "metadata": {},
     "output_type": "display_data"
    },
    {
     "name": "stdout",
     "output_type": "stream",
     "text": [
      "7 7\n"
     ]
    },
    {
     "data": {
      "application/javascript": [
       "\n",
       "        if (window._pyforest_update_imports_cell) { window._pyforest_update_imports_cell('import pandas as pd'); }\n",
       "    "
      ],
      "text/plain": [
       "<IPython.core.display.Javascript object>"
      ]
     },
     "metadata": {},
     "output_type": "display_data"
    },
    {
     "name": "stdout",
     "output_type": "stream",
     "text": [
      "13 5\n"
     ]
    },
    {
     "data": {
      "application/javascript": [
       "\n",
       "        if (window._pyforest_update_imports_cell) { window._pyforest_update_imports_cell('import pandas as pd'); }\n",
       "    "
      ],
      "text/plain": [
       "<IPython.core.display.Javascript object>"
      ]
     },
     "metadata": {},
     "output_type": "display_data"
    },
    {
     "name": "stdout",
     "output_type": "stream",
     "text": [
      "15 7\n"
     ]
    },
    {
     "data": {
      "application/javascript": [
       "\n",
       "        if (window._pyforest_update_imports_cell) { window._pyforest_update_imports_cell('import pandas as pd'); }\n",
       "    "
      ],
      "text/plain": [
       "<IPython.core.display.Javascript object>"
      ]
     },
     "metadata": {},
     "output_type": "display_data"
    },
    {
     "name": "stdout",
     "output_type": "stream",
     "text": [
      "12 4\n"
     ]
    },
    {
     "data": {
      "application/javascript": [
       "\n",
       "        if (window._pyforest_update_imports_cell) { window._pyforest_update_imports_cell('import pandas as pd'); }\n",
       "    "
      ],
      "text/plain": [
       "<IPython.core.display.Javascript object>"
      ]
     },
     "metadata": {},
     "output_type": "display_data"
    },
    {
     "name": "stdout",
     "output_type": "stream",
     "text": [
      "9 3\n"
     ]
    },
    {
     "data": {
      "application/javascript": [
       "\n",
       "        if (window._pyforest_update_imports_cell) { window._pyforest_update_imports_cell('import pandas as pd'); }\n",
       "    "
      ],
      "text/plain": [
       "<IPython.core.display.Javascript object>"
      ]
     },
     "metadata": {},
     "output_type": "display_data"
    },
    {
     "name": "stdout",
     "output_type": "stream",
     "text": [
      "10 6\n"
     ]
    },
    {
     "data": {
      "application/javascript": [
       "\n",
       "        if (window._pyforest_update_imports_cell) { window._pyforest_update_imports_cell('import pandas as pd'); }\n",
       "    "
      ],
      "text/plain": [
       "<IPython.core.display.Javascript object>"
      ]
     },
     "metadata": {},
     "output_type": "display_data"
    },
    {
     "name": "stdout",
     "output_type": "stream",
     "text": [
      "16 5\n"
     ]
    },
    {
     "data": {
      "application/javascript": [
       "\n",
       "        if (window._pyforest_update_imports_cell) { window._pyforest_update_imports_cell('import pandas as pd'); }\n",
       "    "
      ],
      "text/plain": [
       "<IPython.core.display.Javascript object>"
      ]
     },
     "metadata": {},
     "output_type": "display_data"
    },
    {
     "name": "stdout",
     "output_type": "stream",
     "text": [
      "17 5\n"
     ]
    },
    {
     "data": {
      "application/javascript": [
       "\n",
       "        if (window._pyforest_update_imports_cell) { window._pyforest_update_imports_cell('import pandas as pd'); }\n",
       "    "
      ],
      "text/plain": [
       "<IPython.core.display.Javascript object>"
      ]
     },
     "metadata": {},
     "output_type": "display_data"
    },
    {
     "name": "stdout",
     "output_type": "stream",
     "text": [
      "18 6\n"
     ]
    },
    {
     "data": {
      "application/javascript": [
       "\n",
       "        if (window._pyforest_update_imports_cell) { window._pyforest_update_imports_cell('import pandas as pd'); }\n",
       "    "
      ],
      "text/plain": [
       "<IPython.core.display.Javascript object>"
      ]
     },
     "metadata": {},
     "output_type": "display_data"
    },
    {
     "name": "stdout",
     "output_type": "stream",
     "text": [
      "11 5\n"
     ]
    }
   ],
   "source": [
    "for idx, r in score_round.iterrows():\n",
    "    hole_score = pd.json_normalize(r.round_score)\n",
    "    print(hole_score['holeNumber'][0],hole_score['score.strokes'][0])"
   ]
  },
  {
   "cell_type": "code",
   "execution_count": 21,
   "id": "09f2c123-a374-4ced-ac62-2e7cc94b17b6",
   "metadata": {},
   "outputs": [
    {
     "data": {
      "text/html": [
       "<div>\n",
       "<style scoped>\n",
       "    .dataframe tbody tr th:only-of-type {\n",
       "        vertical-align: middle;\n",
       "    }\n",
       "\n",
       "    .dataframe tbody tr th {\n",
       "        vertical-align: top;\n",
       "    }\n",
       "\n",
       "    .dataframe thead th {\n",
       "        text-align: right;\n",
       "    }\n",
       "</style>\n",
       "<table border=\"1\" class=\"dataframe\">\n",
       "  <thead>\n",
       "    <tr style=\"text-align: right;\">\n",
       "      <th></th>\n",
       "      <th>holeNumber</th>\n",
       "      <th>date</th>\n",
       "      <th>score.strokes</th>\n",
       "      <th>score.putts</th>\n",
       "      <th>score.penalties</th>\n",
       "      <th>score.fairwayHit</th>\n",
       "      <th>score.bunkerHit</th>\n",
       "    </tr>\n",
       "  </thead>\n",
       "  <tbody>\n",
       "    <tr>\n",
       "      <th>0</th>\n",
       "      <td>11</td>\n",
       "      <td>1.589729e+09</td>\n",
       "      <td>5</td>\n",
       "      <td>2</td>\n",
       "      <td>0</td>\n",
       "      <td>None</td>\n",
       "      <td>None</td>\n",
       "    </tr>\n",
       "  </tbody>\n",
       "</table>\n",
       "</div>"
      ],
      "text/plain": [
       "   holeNumber          date  score.strokes  score.putts  score.penalties  \\\n",
       "0          11  1.589729e+09              5            2                0   \n",
       "\n",
       "  score.fairwayHit score.bunkerHit  \n",
       "0             None            None  "
      ]
     },
     "execution_count": 21,
     "metadata": {},
     "output_type": "execute_result"
    }
   ],
   "source": [
    "hole_score"
   ]
  },
  {
   "cell_type": "code",
   "execution_count": null,
   "id": "6066d2e8-e93c-488c-9bf3-ae9474efdf40",
   "metadata": {},
   "outputs": [],
   "source": []
  }
 ],
 "metadata": {
  "kernelspec": {
   "display_name": "Python 3 (ipykernel)",
   "language": "python",
   "name": "python3"
  },
  "language_info": {
   "codemirror_mode": {
    "name": "ipython",
    "version": 3
   },
   "file_extension": ".py",
   "mimetype": "text/x-python",
   "name": "python",
   "nbconvert_exporter": "python",
   "pygments_lexer": "ipython3",
   "version": "3.9.7"
  }
 },
 "nbformat": 4,
 "nbformat_minor": 5
}
